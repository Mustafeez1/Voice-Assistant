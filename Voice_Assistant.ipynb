import pyttsx3
import speech_recognition as sr
import wikipedia
import webbrowser
import os
import datetime
import pyjokes
from googletrans import Translator
import numpy as np
from win10toast import ToastNotifier
 
# init pyttsx
engine = pyttsx3.init("sapi5")
voices = engine.getProperty("voices")
 
engine.setProperty('voice', voices[1].id)  # 1 for female and 0 for male voice
 
# Initialize the toast notifier for reminders and alarms
toaster = ToastNotifier()
def speak(audio):
   engine.say(audio)
   engine.runAndWait()
 
 
def take_command():
   r = sr.Recognizer()
   with sr.Microphone() as source:
       print("Listening...")
       r.pause_threshold = 1
       audio = r.listen(source)
   try:
       print("Recognizing...")
       query = r.recognize_google(audio, language='en-in')
       print("User said:" + query + "\n")
   except Exception as e:
       print(e)
       speak("I didnt understand")
       return "None"
   return query
 
 
# Function to tell the current time
def tell_time():
   current_time = datetime.datetime.now().strftime("%I:%M %p")
   speak("The current time is " + current_time)
 
# Function to tell the current date
def tell_date():
   current_date = datetime.datetime.now().strftime("%A, %B %d, %Y")
   speak("Today is " + current_date)
 
 
# Function to search the web
def search_web(query):
   search_url = "https://www.google.com/search?q=" + query
   webbrowser.open(search_url)    
   
   
# Function to tell a joke
def tell_joke():
   joke = pyjokes.get_joke()
   speak(joke)    
   
# Function to translate text
def translate_text(text, source_lang, target_lang):
   translator = Translator()
   translated_text = translator.translate(text, src=source_lang, dest=target_lang)
   speak(f"The translated text is: {translated_text.text}")
   
   
# Function to perform mathematical calculations (calculate mean)
def calculate_mean(numbers):
   try:
       if len(numbers) == 0:
           return "The list is empty."
       mean = np.mean(numbers)
       return f"The mean of the numbers is {mean:.2f}"
   except Exception as e:
       return f"An error occurred: {str(e)}"
 
 
 
# Function to set reminders
def set_reminder(reminder_text, reminder_time):
   try:
       if reminder_time <= datetime.datetime.now():
           speak("The specified time is in the past. Please try again.")
       else:
           reminder_time_str = reminder_time.strftime("%I:%M %p")
           reminder_text = f"Reminder: {reminder_text} at {reminder_time_str}"
           toaster.show_toast("Reminder", reminder_text, duration=10)
           speak(f"Reminder set for {reminder_time_str}.")
   except Exception as e:
       print(e)
       speak("An error occurred while setting the reminder. Please try again.")
 
   
   
 
if __name__ == '__main__':
 
   speak("javis assistance activated ")
   speak("How can i help you")
   while True:
       query = take_command().lower()
       if 'wikipedia' in query:
           speak("Searching Wikipedia ...")
           query = query.replace("wikipedia", '')
           results = wikipedia.summary(query, sentences=2)
           speak("According to wikipedia")
           speak(results)
       elif 'calculate mean' in query:
           speak("Sure, please provide a list of numbers separated by commas.")
           numbers_input = take_command()
           numbers = [float(num) for num in numbers_input.split(",")]
           result = calculate_mean(numbers)
           speak(result)
       elif 'joke' in query:
           tell_joke()
       elif 'time' in query:
           tell_time()
       elif 'date' in query:
           tell_date()
       elif 'search' in query:
           search_query = query.replace("search", "").strip()
           search_web(search_query)
       elif 'translate' in query:
           speak("Please provide the text to translate.")
           text_to_translate = take_command()
           speak("Specify the source language (e.g., 'en' for English).")
           source_language = take_command()
           speak("Specify the target language (e.g., 'fr' for French).")
           target_language = take_command()
           translate_text(text_to_translate, source_language, target_language)
       elif 'set reminder' in query:
           speak("What would you like to be reminded of?")
           reminder_text = take_command()
           speak("At what time would you like to set the reminder? Please specify the time in HH:MM AM/PM format.")
           try:
               reminder_time_str = take_command()
               reminder_time = datetime.datetime.strptime(reminder_time_str, "%I:%M %p")
               set_reminder(reminder_text, reminder_time)
           except ValueError:
               speak("Invalid time format. Please try again.")
       elif 'are you' in query:
           speak("I am javis developed by mustafeezulla khan")
       elif 'open youtube' in query:
           speak("opening youtube")
           webbrowser.open("youtube.com")
       elif 'open google' in query:
           speak("opening google")
           webbrowser.open("google.com")
       elif 'open github' in query:
           speak("opening github")
           webbrowser.open("github.com")
       elif 'open stackoverflow' in query:
           speak("opening stackoverflow")
           webbrowser.open("stackoverflow.com")
       elif 'open spotify' in query:
           speak("opening spotify")
           webbrowser.open("spotify.com")
       elif 'open whatsapp' in query:
           speak("opening whatsapp")
           loc = "C:\\Users\\smustafeezullakhan\\AppData\\Local\\WhatsApp\\WhatsApp.exe"
           os.startfile(loc)
       elif 'play music' in query:
           speak("opening music")
           webbrowser.open("spotify.com")
       elif 'play music' in query:
           speak("opening music")
           webbrowser.open("spotify.com")
       elif 'local disk d' in query:
           speak("opening local disk D")
           webbrowser.open("D://")
       elif 'local disk c' in query:
           speak("opening local disk C")
           webbrowser.open("C://")
       elif 'local disk e' in query:
           speak("opening local disk E")
           webbrowser.open("E://")
       elif 'goodbye' in query:
           speak("Goodbye!")
           break
       elif 'sleep' in query or 'exit' in query:
           speak("Goodbye!")
           break
